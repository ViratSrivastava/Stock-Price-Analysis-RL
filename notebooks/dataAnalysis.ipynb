{
 "cells": [
  {
   "cell_type": "code",
   "execution_count": null,
   "id": "79ff65d5",
   "metadata": {},
   "outputs": [],
   "source": [
    "# Deep Learning Framework PyTorch \n",
    "import torch\n",
    "import torch.nn as nn\n",
    "import torch.optim as optim\n",
    "from torch.utils.data import DataLoader\n",
    "\n",
    "# Reinforcement Learning\n",
    "import gym\n",
    "from gym import spaces\n",
    "import stable_baselines3 as sb3\n",
    "from stable_baselines3 import DQN\n",
    "from stable_baselines3.common.env_util import make_vec_env"
   ]
  },
  {
   "cell_type": "code",
   "execution_count": null,
   "id": "62d455e8",
   "metadata": {},
   "outputs": [],
   "source": [
    "# Data manipulation and analysis\n",
    "import numpy as np\n",
    "import pandas as pd\n",
    "\n",
    "# Stock data acquisition\n",
    "import yfinance as yf\n",
    "import pandas_datareader as pdr\n",
    "import alpha_vantage\n",
    "from alpha_vantage.timeseries import TimeSeries\n",
    "\n",
    "# Alternative data sources\n",
    "import quandl\n",
    "import investpy"
   ]
  },
  {
   "cell_type": "code",
   "execution_count": null,
   "id": "715e2fd7",
   "metadata": {},
   "outputs": [],
   "source": [
    "# Plotting and visualization\n",
    "import matplotlib.pyplot as plt\n",
    "import seaborn as sns\n",
    "import plotly.graph_objects as go\n",
    "import plotly.express as px\n",
    "\n",
    "# Technical indicators\n",
    "import talib\n",
    "from ta import add_all_ta_features\n",
    "import pandas_ta as ta"
   ]
  },
  {
   "cell_type": "code",
   "execution_count": null,
   "id": "39a76a07",
   "metadata": {},
   "outputs": [],
   "source": [
    "# General utilities\n",
    "import os\n",
    "import sys\n",
    "import datetime as dt\n",
    "from datetime import datetime, timedelta\n",
    "import warnings\n",
    "import random\n",
    "from collections import deque\n",
    "import pickle\n",
    "import json\n",
    "\n",
    "# Scientific computing\n",
    "import scipy\n",
    "from sklearn.preprocessing import MinMaxScaler, StandardScaler\n",
    "from sklearn.metrics import mean_squared_error, mean_absolute_error"
   ]
  },
  {
   "cell_type": "code",
   "execution_count": null,
   "id": "ee183b0e",
   "metadata": {},
   "outputs": [],
   "source": []
  }
 ],
 "metadata": {
  "language_info": {
   "name": "python"
  }
 },
 "nbformat": 4,
 "nbformat_minor": 5
}
